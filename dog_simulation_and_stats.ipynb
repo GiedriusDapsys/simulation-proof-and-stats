{
 "cells": [
  {
   "cell_type": "markdown",
   "id": "f435ea29",
   "metadata": {},
   "source": [
    "# Simulation Proof & Data Analysis Notebook\n",
    "This notebook demonstrates the \"dog shredder\" simulation trick using NumPy and Pillow, and then scrapes sample data from the web for basic statistical analysis.\n",
    "\n",
    "## Part 1: Simulation Trick\n",
    "1. Load an image via URL\n",
    "2. Convert to NumPy array and slice into random strips\n",
    "3. Rotate randomly and reassemble, displaying intermediate steps\n",
    "\n",
    "## Part 2: Data Scraping & Analysis\n",
    "1. Fetch sample data from a public JSON API\n",
    "2. Initialize a NumPy array with the data\n",
    "3. Compute basic statistics and filter the data\n"
   ]
  },
  {
   "cell_type": "code",
   "execution_count": null,
   "id": "0097dac9",
   "metadata": {},
   "outputs": [],
   "source": [
    "import numpy as np\n",
    "import matplotlib.pyplot as plt\n",
    "from PIL import Image\n",
    "import requests\n",
    "from io import BytesIO\n"
   ]
  },
  {
   "cell_type": "code",
   "execution_count": null,
   "id": "fb2b2f67",
   "metadata": {},
   "outputs": [],
   "source": [
    "# Part 1: Load Image\n",
    "img_url = 'https://laughingsquid.com/wp-content/uploads/2019/06/clever-collage-trick-1.jpg'\n",
    "response = requests.get(img_url)\n",
    "orig_image = Image.open(BytesIO(response.content))\n",
    "plt.imshow(orig_image)\n",
    "plt.title('Original Image')\n",
    "plt.axis('off')\n",
    "                         "
   ]
  },
  {
   "cell_type": "code",
   "execution_count": null,
   "id": "3aaa29eb",
   "metadata": {},
   "outputs": [],
   "source": [
    "# Shredding and Reassembling\n",
    "img_arr = np.array(orig_image)\n",
    "h, w, c = img_arr.shape\n",
    "n_strips = 10\n",
    "indices = np.linspace(0, w, n_strips+1, dtype=int)\n",
    "pieces = []\n",
    "for i in range(n_strips):\n",
    "    strip = img_arr[:, indices[i]:indices[i+1], :]\n",
    "    # random rotation\n",
    "    angle = np.random.choice([0, 90, 180, 270])\n",
    "    pil_strip = Image.fromarray(strip)\n",
    "    pieces.append(np.array(pil_strip.rotate(angle, expand=True)))\n",
    "# Display intermediate pieces\n",
    "fig, axs = plt.subplots(2, n_strips//2, figsize=(15, 6))\n",
    "for ax, piece in zip(axs.flatten(), pieces):\n",
    "    ax.imshow(piece)\n",
    "    ax.axis('off')\n",
    "# Reassemble side by side\n",
    "new_width = sum(p.shape[1] for p in pieces)\n",
    "max_height = max(p.shape[0] for p in pieces)\n",
    "canvas = np.zeros((max_height, new_width, 3), dtype=np.uint8)\n",
    "x_offset = 0\n",
    "for p in pieces:\n",
    "    h2, w2, _ = p.shape\n",
    "    canvas[:h2, x_offset:x_offset+w2] = p\n",
    "    x_offset += w2\n",
    "plt.figure(figsize=(8, 6))\n",
    "plt.imshow(canvas)\n",
    "plt.title('Reassembled Simulation Proof')\n",
    "plt.axis('off')\n"
   ]
  },
  {
   "cell_type": "markdown",
   "id": "9af2330f",
   "metadata": {},
   "source": [
    "## Part 2: Data Scraping & Analysis\n",
    "We'll fetch sample JSON data from a public API and analyze it."
   ]
  },
  {
   "cell_type": "code",
   "execution_count": null,
   "id": "6e13872f",
   "metadata": {},
   "outputs": [],
   "source": [
    "# Fetch sample data\n",
    "api_url = 'https://jsonplaceholder.typicode.com/posts'\n",
    "data = requests.get(api_url).json()\n",
    "# Extract lengths of post bodies\n",
    "lengths = np.array([len(post['body']) for post in data])\n",
    "# Statistics\n",
    "print('Mean length:', lengths.mean())\n",
    "print('Sum of lengths:', lengths.sum())\n",
    "print('Max:', lengths.max())\n",
    "print('Min:', lengths.min())\n",
    "# Filter posts longer than mean\n",
    "long_posts = [post for post, l in zip(data, lengths) if l > lengths.mean()]\n",
    "print(f'Number of posts longer than mean ({lengths.mean():.1f}):', len(long_posts))\n"
   ]
  },
  {
   "cell_type": "markdown",
   "id": "750d382a",
   "metadata": {},
   "source": [
    "### Conclusion\n",
    "This notebook demonstrates the shredding trick as a tongue-in-cheek 'proof' of simulation and shows simple data scraping and analysis with NumPy.\n"
   ]
  }
 ],
 "metadata": {},
 "nbformat": 4,
 "nbformat_minor": 5
}

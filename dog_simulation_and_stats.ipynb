{
  "cells": [
    {
      "cell_type": "markdown",
      "id": "f435ea29",
      "metadata": {
        "id": "f435ea29"
      },
      "source": [
        "# Simulation Proof & Data Analysis Notebook\n",
        "This notebook demonstrates the \"dog shredder\" simulation trick using NumPy and Pillow, and then scrapes sample data from the web for basic statistical analysis.\n",
        "\n",
        "## Part 1: Simulation Trick\n",
        "1. Load an image via URL\n",
        "2. Convert to NumPy array and slice into random strips\n",
        "3. Rotate randomly and reassemble, displaying intermediate steps\n",
        "\n",
        "## Part 2: Data Scraping & Analysis\n",
        "1. Fetch sample data from a public JSON API\n",
        "2. Initialize a NumPy array with the data\n",
        "3. Compute basic statistics and filter the data\n"
      ]
    },
    {
      "cell_type": "code",
      "execution_count": null,
      "id": "0097dac9",
      "metadata": {
        "id": "0097dac9"
      },
      "outputs": [],
      "source": [
        "import numpy as np\n",
        "import matplotlib.pyplot as plt\n",
        "from PIL import Image\n",
        "import requests\n",
        "from io import BytesIO\n"
      ]
    },
    {
      "cell_type": "code",
      "execution_count": 3,
      "id": "fb2b2f67",
      "metadata": {
        "id": "fb2b2f67",
        "outputId": "a54a02bd-d561-410a-b183-f9703d7ecee4",
        "colab": {
          "base_uri": "https://localhost:8080/",
          "height": 211
        }
      },
      "outputs": [
        {
          "output_type": "error",
          "ename": "NameError",
          "evalue": "name 'requests' is not defined",
          "traceback": [
            "\u001b[0;31m---------------------------------------------------------------------------\u001b[0m",
            "\u001b[0;31mNameError\u001b[0m                                 Traceback (most recent call last)",
            "\u001b[0;32m/tmp/ipython-input-3-42365463.py\u001b[0m in \u001b[0;36m<cell line: 0>\u001b[0;34m()\u001b[0m\n\u001b[1;32m      1\u001b[0m \u001b[0;31m# Part 1: Load Image\u001b[0m\u001b[0;34m\u001b[0m\u001b[0;34m\u001b[0m\u001b[0m\n\u001b[1;32m      2\u001b[0m \u001b[0mimg_url\u001b[0m \u001b[0;34m=\u001b[0m \u001b[0;34m'https://laughingsquid.com/wp-content/uploads/2019/06/clever-collage-trick-1.jpg'\u001b[0m\u001b[0;34m\u001b[0m\u001b[0;34m\u001b[0m\u001b[0m\n\u001b[0;32m----> 3\u001b[0;31m \u001b[0mresponse\u001b[0m \u001b[0;34m=\u001b[0m \u001b[0mrequests\u001b[0m\u001b[0;34m.\u001b[0m\u001b[0mget\u001b[0m\u001b[0;34m(\u001b[0m\u001b[0mimg_url\u001b[0m\u001b[0;34m)\u001b[0m\u001b[0;34m\u001b[0m\u001b[0;34m\u001b[0m\u001b[0m\n\u001b[0m\u001b[1;32m      4\u001b[0m \u001b[0morig_image\u001b[0m \u001b[0;34m=\u001b[0m \u001b[0mImage\u001b[0m\u001b[0;34m.\u001b[0m\u001b[0mopen\u001b[0m\u001b[0;34m(\u001b[0m\u001b[0mBytesIO\u001b[0m\u001b[0;34m(\u001b[0m\u001b[0mresponse\u001b[0m\u001b[0;34m.\u001b[0m\u001b[0mcontent\u001b[0m\u001b[0;34m)\u001b[0m\u001b[0;34m)\u001b[0m\u001b[0;34m\u001b[0m\u001b[0;34m\u001b[0m\u001b[0m\n\u001b[1;32m      5\u001b[0m \u001b[0mplt\u001b[0m\u001b[0;34m.\u001b[0m\u001b[0mimshow\u001b[0m\u001b[0;34m(\u001b[0m\u001b[0morig_image\u001b[0m\u001b[0;34m)\u001b[0m\u001b[0;34m\u001b[0m\u001b[0;34m\u001b[0m\u001b[0m\n",
            "\u001b[0;31mNameError\u001b[0m: name 'requests' is not defined"
          ]
        }
      ],
      "source": [
        "# Part 1: Load Image\n",
        "img_url = 'https://laughingsquid.com/wp-content/uploads/2019/06/clever-collage-trick-1.jpg'\n",
        "response = requests.get(img_url)\n",
        "orig_image = Image.open(BytesIO(response.content))\n",
        "plt.imshow(orig_image)\n",
        "plt.title('Original Image')\n",
        "plt.axis('off')\n",
        ""
      ]
    },
    {
      "cell_type": "code",
      "execution_count": 2,
      "id": "3aaa29eb",
      "metadata": {
        "id": "3aaa29eb",
        "outputId": "86077f4a-bcf1-429b-8b38-595a7df09f00",
        "colab": {
          "base_uri": "https://localhost:8080/",
          "height": 211
        }
      },
      "outputs": [
        {
          "output_type": "error",
          "ename": "NameError",
          "evalue": "name 'np' is not defined",
          "traceback": [
            "\u001b[0;31m---------------------------------------------------------------------------\u001b[0m",
            "\u001b[0;31mNameError\u001b[0m                                 Traceback (most recent call last)",
            "\u001b[0;32m/tmp/ipython-input-2-1880462050.py\u001b[0m in \u001b[0;36m<cell line: 0>\u001b[0;34m()\u001b[0m\n\u001b[1;32m      1\u001b[0m \u001b[0;31m# Shredding and Reassembling\u001b[0m\u001b[0;34m\u001b[0m\u001b[0;34m\u001b[0m\u001b[0m\n\u001b[0;32m----> 2\u001b[0;31m \u001b[0mimg_arr\u001b[0m \u001b[0;34m=\u001b[0m \u001b[0mnp\u001b[0m\u001b[0;34m.\u001b[0m\u001b[0marray\u001b[0m\u001b[0;34m(\u001b[0m\u001b[0morig_image\u001b[0m\u001b[0;34m)\u001b[0m\u001b[0;34m\u001b[0m\u001b[0;34m\u001b[0m\u001b[0m\n\u001b[0m\u001b[1;32m      3\u001b[0m \u001b[0mh\u001b[0m\u001b[0;34m,\u001b[0m \u001b[0mw\u001b[0m\u001b[0;34m,\u001b[0m \u001b[0mc\u001b[0m \u001b[0;34m=\u001b[0m \u001b[0mimg_arr\u001b[0m\u001b[0;34m.\u001b[0m\u001b[0mshape\u001b[0m\u001b[0;34m\u001b[0m\u001b[0;34m\u001b[0m\u001b[0m\n\u001b[1;32m      4\u001b[0m \u001b[0mn_strips\u001b[0m \u001b[0;34m=\u001b[0m \u001b[0;36m10\u001b[0m\u001b[0;34m\u001b[0m\u001b[0;34m\u001b[0m\u001b[0m\n\u001b[1;32m      5\u001b[0m \u001b[0mindices\u001b[0m \u001b[0;34m=\u001b[0m \u001b[0mnp\u001b[0m\u001b[0;34m.\u001b[0m\u001b[0mlinspace\u001b[0m\u001b[0;34m(\u001b[0m\u001b[0;36m0\u001b[0m\u001b[0;34m,\u001b[0m \u001b[0mw\u001b[0m\u001b[0;34m,\u001b[0m \u001b[0mn_strips\u001b[0m\u001b[0;34m+\u001b[0m\u001b[0;36m1\u001b[0m\u001b[0;34m,\u001b[0m \u001b[0mdtype\u001b[0m\u001b[0;34m=\u001b[0m\u001b[0mint\u001b[0m\u001b[0;34m)\u001b[0m\u001b[0;34m\u001b[0m\u001b[0;34m\u001b[0m\u001b[0m\n",
            "\u001b[0;31mNameError\u001b[0m: name 'np' is not defined"
          ]
        }
      ],
      "source": [
        "# Shredding and Reassembling\n",
        "img_arr = np.array(orig_image)\n",
        "h, w, c = img_arr.shape\n",
        "n_strips = 10\n",
        "indices = np.linspace(0, w, n_strips+1, dtype=int)\n",
        "pieces = []\n",
        "for i in range(n_strips):\n",
        "    strip = img_arr[:, indices[i]:indices[i+1], :]\n",
        "    # random rotation\n",
        "    angle = np.random.choice([0, 90, 180, 270])\n",
        "    pil_strip = Image.fromarray(strip)\n",
        "    pieces.append(np.array(pil_strip.rotate(angle, expand=True)))\n",
        "# Display intermediate pieces\n",
        "fig, axs = plt.subplots(2, n_strips//2, figsize=(15, 6))\n",
        "for ax, piece in zip(axs.flatten(), pieces):\n",
        "    ax.imshow(piece)\n",
        "    ax.axis('off')\n",
        "# Reassemble side by side\n",
        "new_width = sum(p.shape[1] for p in pieces)\n",
        "max_height = max(p.shape[0] for p in pieces)\n",
        "canvas = np.zeros((max_height, new_width, 3), dtype=np.uint8)\n",
        "x_offset = 0\n",
        "for p in pieces:\n",
        "    h2, w2, _ = p.shape\n",
        "    canvas[:h2, x_offset:x_offset+w2] = p\n",
        "    x_offset += w2\n",
        "plt.figure(figsize=(8, 6))\n",
        "plt.imshow(canvas)\n",
        "plt.title('Reassembled Simulation Proof')\n",
        "plt.axis('off')\n"
      ]
    },
    {
      "cell_type": "markdown",
      "id": "9af2330f",
      "metadata": {
        "id": "9af2330f"
      },
      "source": [
        "## Part 2: Data Scraping & Analysis\n",
        "We'll fetch sample JSON data from a public API and analyze it."
      ]
    },
    {
      "cell_type": "code",
      "execution_count": 1,
      "id": "6e13872f",
      "metadata": {
        "id": "6e13872f",
        "outputId": "3f149e82-5fee-4937-a6a1-e617a2d649ec",
        "colab": {
          "base_uri": "https://localhost:8080/",
          "height": 211
        }
      },
      "outputs": [
        {
          "output_type": "error",
          "ename": "NameError",
          "evalue": "name 'requests' is not defined",
          "traceback": [
            "\u001b[0;31m---------------------------------------------------------------------------\u001b[0m",
            "\u001b[0;31mNameError\u001b[0m                                 Traceback (most recent call last)",
            "\u001b[0;32m/tmp/ipython-input-1-903965723.py\u001b[0m in \u001b[0;36m<cell line: 0>\u001b[0;34m()\u001b[0m\n\u001b[1;32m      1\u001b[0m \u001b[0;31m# Fetch sample data\u001b[0m\u001b[0;34m\u001b[0m\u001b[0;34m\u001b[0m\u001b[0m\n\u001b[1;32m      2\u001b[0m \u001b[0mapi_url\u001b[0m \u001b[0;34m=\u001b[0m \u001b[0;34m'https://jsonplaceholder.typicode.com/posts'\u001b[0m\u001b[0;34m\u001b[0m\u001b[0;34m\u001b[0m\u001b[0m\n\u001b[0;32m----> 3\u001b[0;31m \u001b[0mdata\u001b[0m \u001b[0;34m=\u001b[0m \u001b[0mrequests\u001b[0m\u001b[0;34m.\u001b[0m\u001b[0mget\u001b[0m\u001b[0;34m(\u001b[0m\u001b[0mapi_url\u001b[0m\u001b[0;34m)\u001b[0m\u001b[0;34m.\u001b[0m\u001b[0mjson\u001b[0m\u001b[0;34m(\u001b[0m\u001b[0;34m)\u001b[0m\u001b[0;34m\u001b[0m\u001b[0;34m\u001b[0m\u001b[0m\n\u001b[0m\u001b[1;32m      4\u001b[0m \u001b[0;31m# Extract lengths of post bodies\u001b[0m\u001b[0;34m\u001b[0m\u001b[0;34m\u001b[0m\u001b[0m\n\u001b[1;32m      5\u001b[0m \u001b[0mlengths\u001b[0m \u001b[0;34m=\u001b[0m \u001b[0mnp\u001b[0m\u001b[0;34m.\u001b[0m\u001b[0marray\u001b[0m\u001b[0;34m(\u001b[0m\u001b[0;34m[\u001b[0m\u001b[0mlen\u001b[0m\u001b[0;34m(\u001b[0m\u001b[0mpost\u001b[0m\u001b[0;34m[\u001b[0m\u001b[0;34m'body'\u001b[0m\u001b[0;34m]\u001b[0m\u001b[0;34m)\u001b[0m \u001b[0;32mfor\u001b[0m \u001b[0mpost\u001b[0m \u001b[0;32min\u001b[0m \u001b[0mdata\u001b[0m\u001b[0;34m]\u001b[0m\u001b[0;34m)\u001b[0m\u001b[0;34m\u001b[0m\u001b[0;34m\u001b[0m\u001b[0m\n",
            "\u001b[0;31mNameError\u001b[0m: name 'requests' is not defined"
          ]
        }
      ],
      "source": [
        "# Fetch sample data\n",
        "api_url = 'https://jsonplaceholder.typicode.com/posts'\n",
        "data = requests.get(api_url).json()\n",
        "# Extract lengths of post bodies\n",
        "lengths = np.array([len(post['body']) for post in data])\n",
        "# Statistics\n",
        "print('Mean length:', lengths.mean())\n",
        "print('Sum of lengths:', lengths.sum())\n",
        "print('Max:', lengths.max())\n",
        "print('Min:', lengths.min())\n",
        "# Filter posts longer than mean\n",
        "long_posts = [post for post, l in zip(data, lengths) if l > lengths.mean()]\n",
        "print(f'Number of posts longer than mean ({lengths.mean():.1f}):', len(long_posts))\n"
      ]
    },
    {
      "cell_type": "markdown",
      "id": "750d382a",
      "metadata": {
        "id": "750d382a"
      },
      "source": [
        "### Conclusion\n",
        "This notebook demonstrates the shredding trick as a tongue-in-cheek 'proof' of simulation and shows simple data scraping and analysis with NumPy.\n"
      ]
    }
  ],
  "metadata": {
    "colab": {
      "provenance": []
    },
    "language_info": {
      "name": "python"
    },
    "kernelspec": {
      "name": "python3",
      "display_name": "Python 3"
    }
  },
  "nbformat": 4,
  "nbformat_minor": 5
}